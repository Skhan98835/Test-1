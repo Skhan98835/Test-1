{
 "cells": [
  {
   "cell_type": "code",
   "execution_count": 1,
   "id": "0231576f-c720-4599-ae50-835fa77f0a9f",
   "metadata": {},
   "outputs": [],
   "source": [
    "s = \"avijit\""
   ]
  },
  {
   "cell_type": "code",
   "execution_count": 3,
   "id": "d6a067e6-938b-45a1-9dbe-1028b003a3bf",
   "metadata": {},
   "outputs": [
    {
     "data": {
      "text/plain": [
       "'avijit'"
      ]
     },
     "execution_count": 3,
     "metadata": {},
     "output_type": "execute_result"
    }
   ],
   "source": [
    "s"
   ]
  },
  {
   "cell_type": "code",
   "execution_count": 4,
   "id": "ca68dab0-e089-4fdf-be60-3eda10426591",
   "metadata": {},
   "outputs": [
    {
     "ename": "NameError",
     "evalue": "name 'shahbaz' is not defined",
     "output_type": "error",
     "traceback": [
      "\u001b[0;31m---------------------------------------------------------------------------\u001b[0m",
      "\u001b[0;31mNameError\u001b[0m                                 Traceback (most recent call last)",
      "Cell \u001b[0;32mIn[4], line 1\u001b[0m\n\u001b[0;32m----> 1\u001b[0m a \u001b[38;5;241m=\u001b[39m\u001b[43mshahbaz\u001b[49m\n",
      "\u001b[0;31mNameError\u001b[0m: name 'shahbaz' is not defined"
     ]
    }
   ],
   "source": [
    "a = shahbaz"
   ]
  },
  {
   "cell_type": "code",
   "execution_count": 5,
   "id": "e2793b26-d685-4f52-af92-4a2dc5214038",
   "metadata": {},
   "outputs": [
    {
     "data": {
      "text/plain": [
       "str"
      ]
     },
     "execution_count": 5,
     "metadata": {},
     "output_type": "execute_result"
    }
   ],
   "source": [
    "type(s)"
   ]
  },
  {
   "cell_type": "code",
   "execution_count": 6,
   "id": "82925f79-f44c-449e-b9fd-f9ad69d23046",
   "metadata": {},
   "outputs": [
    {
     "ename": "NameError",
     "evalue": "name 'a' is not defined",
     "output_type": "error",
     "traceback": [
      "\u001b[0;31m---------------------------------------------------------------------------\u001b[0m",
      "\u001b[0;31mNameError\u001b[0m                                 Traceback (most recent call last)",
      "Cell \u001b[0;32mIn[6], line 1\u001b[0m\n\u001b[0;32m----> 1\u001b[0m \u001b[38;5;28mtype\u001b[39m(\u001b[43ma\u001b[49m)\n",
      "\u001b[0;31mNameError\u001b[0m: name 'a' is not defined"
     ]
    }
   ],
   "source": [
    "type(a)"
   ]
  },
  {
   "cell_type": "code",
   "execution_count": 7,
   "id": "9a61a75a-51e8-417c-9787-e5f572557225",
   "metadata": {},
   "outputs": [],
   "source": [
    " m =9883545138"
   ]
  },
  {
   "cell_type": "code",
   "execution_count": 8,
   "id": "622b2824-047e-4f6d-86e2-61e9aa698445",
   "metadata": {},
   "outputs": [
    {
     "data": {
      "text/plain": [
       "9883545138"
      ]
     },
     "execution_count": 8,
     "metadata": {},
     "output_type": "execute_result"
    }
   ],
   "source": [
    "m"
   ]
  },
  {
   "cell_type": "code",
   "execution_count": 9,
   "id": "931838b9-6bac-4be3-8225-6437f7fc0940",
   "metadata": {},
   "outputs": [
    {
     "data": {
      "text/plain": [
       "int"
      ]
     },
     "execution_count": 9,
     "metadata": {},
     "output_type": "execute_result"
    }
   ],
   "source": [
    "type(m)"
   ]
  },
  {
   "cell_type": "code",
   "execution_count": 10,
   "id": "c3ccca25-1e36-46d7-aa5c-c53cf331d833",
   "metadata": {},
   "outputs": [
    {
     "ename": "NameError",
     "evalue": "name 'true' is not defined",
     "output_type": "error",
     "traceback": [
      "\u001b[0;31m---------------------------------------------------------------------------\u001b[0m",
      "\u001b[0;31mNameError\u001b[0m                                 Traceback (most recent call last)",
      "Cell \u001b[0;32mIn[10], line 1\u001b[0m\n\u001b[0;32m----> 1\u001b[0m \u001b[43mtrue\u001b[49m\n",
      "\u001b[0;31mNameError\u001b[0m: name 'true' is not defined"
     ]
    }
   ],
   "source": []
  },
  {
   "cell_type": "code",
   "execution_count": null,
   "id": "f47622d3-6c98-4982-9263-f8722c7b5b2b",
   "metadata": {},
   "outputs": [],
   "source": []
  }
 ],
 "metadata": {
  "kernelspec": {
   "display_name": "Python 3 (ipykernel)",
   "language": "python",
   "name": "python3"
  },
  "language_info": {
   "codemirror_mode": {
    "name": "ipython",
    "version": 3
   },
   "file_extension": ".py",
   "mimetype": "text/x-python",
   "name": "python",
   "nbconvert_exporter": "python",
   "pygments_lexer": "ipython3",
   "version": "3.10.8"
  }
 },
 "nbformat": 4,
 "nbformat_minor": 5
}
